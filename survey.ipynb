{
 "cells": [
  {
   "cell_type": "markdown",
   "metadata": {},
   "source": [
    "#### Creating a link to the form (run the section to get the link)"
   ]
  },
  {
   "cell_type": "code",
   "execution_count": 14,
   "metadata": {},
   "outputs": [
    {
     "data": {
      "text/html": [
       "<a target=\"_blank\" href=\"https://docs.google.com/forms/d/e/1FAIpQLScU_F5aTvSSwlEZRzo20GD8JMz3YDT5rLopxSgvQmtjLCWyIw/viewform?usp=sf_link\">Click here to fill responses to the form questions</a>\n"
      ],
      "text/plain": [
       "<IPython.core.display.HTML object>"
      ]
     },
     "metadata": {},
     "output_type": "display_data"
    }
   ],
   "source": [
    "%%html\n",
    "<a target=\"_blank\" href=\"https://docs.google.com/forms/d/e/1FAIpQLScU_F5aTvSSwlEZRzo20GD8JMz3YDT5rLopxSgvQmtjLCWyIw/viewform?usp=sf_link\">Click here to fill responses to the form questions</a>"
   ]
  },
  {
   "cell_type": "code",
   "execution_count": 50,
   "metadata": {
    "scrolled": false
   },
   "outputs": [
    {
     "data": {
      "text/html": [
       "<div>\n",
       "<style scoped>\n",
       "    .dataframe tbody tr th:only-of-type {\n",
       "        vertical-align: middle;\n",
       "    }\n",
       "\n",
       "    .dataframe tbody tr th {\n",
       "        vertical-align: top;\n",
       "    }\n",
       "\n",
       "    .dataframe thead th {\n",
       "        text-align: right;\n",
       "    }\n",
       "</style>\n",
       "<table border=\"1\" class=\"dataframe\">\n",
       "  <thead>\n",
       "    <tr style=\"text-align: right;\">\n",
       "      <th></th>\n",
       "      <th>Timestamp</th>\n",
       "      <th>First name</th>\n",
       "      <th>Last name</th>\n",
       "      <th>Why do you exercise?</th>\n",
       "      <th>What time do you prefer exercising?</th>\n",
       "      <th>How intense is your workout routine?</th>\n",
       "      <th>How many days in a week do you exercise?</th>\n",
       "      <th>Wha types of exercises do you prefer?</th>\n",
       "    </tr>\n",
       "  </thead>\n",
       "  <tbody>\n",
       "    <tr>\n",
       "      <th>0</th>\n",
       "      <td>1/9/2020 12:51:16</td>\n",
       "      <td>Canny</td>\n",
       "      <td>Mwittqa</td>\n",
       "      <td>Health reasons</td>\n",
       "      <td>Evening</td>\n",
       "      <td>4</td>\n",
       "      <td>4</td>\n",
       "      <td>Strength</td>\n",
       "    </tr>\n",
       "    <tr>\n",
       "      <th>1</th>\n",
       "      <td>1/9/2020 13:22:51</td>\n",
       "      <td>Frans</td>\n",
       "      <td>Edwards</td>\n",
       "      <td>To stay fit</td>\n",
       "      <td>Morning</td>\n",
       "      <td>3</td>\n",
       "      <td>3</td>\n",
       "      <td>Aerobics</td>\n",
       "    </tr>\n",
       "  </tbody>\n",
       "</table>\n",
       "</div>"
      ],
      "text/plain": [
       "           Timestamp First name Last name Why do you exercise?  \\\n",
       "0  1/9/2020 12:51:16      Canny   Mwittqa       Health reasons   \n",
       "1  1/9/2020 13:22:51      Frans   Edwards          To stay fit   \n",
       "\n",
       "  What time do you prefer exercising?  How intense is your workout routine?  \\\n",
       "0                             Evening                                     4   \n",
       "1                             Morning                                     3   \n",
       "\n",
       "   How many days in a week do you exercise?  \\\n",
       "0                                         4   \n",
       "1                                         3   \n",
       "\n",
       "  Wha types of exercises do you prefer?  \n",
       "0                              Strength  \n",
       "1                              Aerobics  "
      ]
     },
     "execution_count": 50,
     "metadata": {},
     "output_type": "execute_result"
    }
   ],
   "source": [
    "\n",
    "#Displaying responses \n",
    "\n",
    "import requests #great web library\n",
    "import pandas as pd #great table/dataframe library\n",
    "doc_id = \"1RvbokcUi-2m93nSW-WNB3jHT8OSqxQss05B5oIonUas\" #from your shared link\n",
    "url = f\"https://docs.google.com/spreadsheets/d/{doc_id}/gviz/tq?tqx=out:csv\" #beautiful python syntactic sugar\n",
    "res = requests.get(url,allow_redirects=True) #Does the download\n",
    "open('./temp.csv', 'wb').write(res.content) #temporarily write to a file\n",
    "df = pd.read_csv('./temp.csv') #so that we can read it. \n",
    "df.head() #so we can see that it worked"
   ]
  },
  {
   "cell_type": "code",
   "execution_count": 34,
   "metadata": {},
   "outputs": [],
   "source": [
    "import sqlite3 as sql"
   ]
  },
  {
   "cell_type": "code",
   "execution_count": 43,
   "metadata": {},
   "outputs": [],
   "source": [
    "conn=sql.connect(\"tempdb.db\")\n",
    "try:\n",
    "    conn.execute(\"\"\"\n",
    "    create table if not exists person (id INT, name TEXT, PRIMARY KEY ('id'))\n",
    "    \"\"\")\n",
    "    conn.execute(\"\"\"\n",
    "    \n",
    "    \"\"\")\n",
    "    conn.executemany(\"\"\"\n",
    "    insert into person values(?,?)\n",
    "    \"\"\",[(1,'Some'),(2,'yes')])\n",
    "    \n",
    "    conn.commit()\n",
    "except sql.Error as e:\n",
    "    print(\"Query error: \" + str(e))\n",
    "    \n",
    "finally:\n",
    "    conn.close()"
   ]
  },
  {
   "cell_type": "code",
   "execution_count": null,
   "metadata": {},
   "outputs": [],
   "source": []
  }
 ],
 "metadata": {
  "kernelspec": {
   "display_name": "Python 3",
   "language": "python",
   "name": "python3"
  },
  "language_info": {
   "codemirror_mode": {
    "name": "ipython",
    "version": 3
   },
   "file_extension": ".py",
   "mimetype": "text/x-python",
   "name": "python",
   "nbconvert_exporter": "python",
   "pygments_lexer": "ipython3",
   "version": "3.7.4"
  }
 },
 "nbformat": 4,
 "nbformat_minor": 2
}
